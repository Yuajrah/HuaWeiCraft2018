{
 "cells": [
  {
   "cell_type": "code",
   "execution_count": 3,
   "metadata": {
    "collapsed": true
   },
   "outputs": [],
   "source": [
    "#本文档对数据进行预处理\n",
    "#划分预测训练集\n",
    "#进行数据可视化\n",
    "import pandas as pd\n",
    "import numpy as np \n",
    "import matplotlib.pyplot as plt\n",
    "\n",
    "##设置绘图的大小\n",
    "%matplotlib inline\n",
    "plt.rcParams['figure.figsize'] = (10.0, 8.0) # set default size of plots\n",
    "plt.rcParams['image.interpolation'] = 'nearest'\n",
    "plt.rcParams['image.cmap'] = 'gray'\n",
    "\n",
    "# Some more magic so that the notebook will reload external python modules;\n",
    "# see http://stackoverflow.com/questions/1907993/autoreload-of-modules-in-ipython\n",
    "%reload_ext autoreload\n",
    "%autoreload 2"
   ]
  },
  {
   "cell_type": "code",
   "execution_count": 4,
   "metadata": {
    "collapsed": true
   },
   "outputs": [],
   "source": [
    "# 导入数据\n",
    "#选用的服务器类型\n",
    "columns = [\"id\",\"ecs\",\"date\",\"time\"]\n",
    "#读取数据\n",
    "data = pd.read_table('data_set/data_2015_12_to_2016_01.txt',header=None,delim_whitespace=True,names=columns)\n",
    "#转化成日期格式\n",
    "data['date'] = pd.to_datetime(data['date'])\n",
    "#train['date']=pd.to_datetime(train['date'])  "
   ]
  },
  {
   "cell_type": "code",
   "execution_count": 5,
   "metadata": {
    "collapsed": true,
    "scrolled": true
   },
   "outputs": [],
   "source": [
    "#对数据进行处理\n",
    "from sklearn import preprocessing\n",
    "target_ecs = [\"flavor1\",\"flavor2\",\"flavor3\",\"flavor4\",\"flavor5\",\"flavor6\",\"flavor7\",\"flavor8\",\"flavor9\",\"flavor10\",\"flavor11\",\"flavor12\",\"flavor13\",\"flavor14\",\"flavor15\"]\n",
    "#首先对数据进行聚合,统计每一种服务器们每天的个数\n",
    "groupby_data = data.groupby([\"date\",\"ecs\"]).size().reset_index(name=\"count\")\n",
    "#生成一个新的时间序列\n",
    "begin_date = groupby_data.iloc[0]['date']\n",
    "end_date = groupby_data.iloc[-1]['date']\n",
    "full_data = pd.DataFrame(index=pd.date_range(begin_date,end_date))\n",
    "for ecs_type in target_ecs:\n",
    "    tmp_data = groupby_data[groupby_data[\"ecs\"]==ecs_type]\n",
    "    tmp_data = tmp_data.set_index(\"date\")\n",
    "    tmp_data=tmp_data.drop(['ecs'], axis=1)\n",
    "    tmp_data.rename(columns={'count':ecs_type}, inplace = True)\n",
    "    full_data = full_data.join(tmp_data).fillna(0)\n",
    "#print (full_data.head(10))"
   ]
  },
  {
   "cell_type": "markdown",
   "metadata": {},
   "source": [
    "### h哈觉得\n",
    "- hadsj\n",
    "- jdask\n",
    "- aff"
   ]
  },
  {
   "cell_type": "code",
   "execution_count": 6,
   "metadata": {
    "collapsed": false
   },
   "outputs": [
    {
     "name": "stdout",
     "output_type": "stream",
     "text": [
      "            flavor1  flavor2  flavor3  flavor4  flavor5  flavor6  flavor7  \\\n",
      "2016-01-21      5.0      6.0      1.0      2.0      9.0      0.0      0.0   \n",
      "2016-01-22     10.0      4.0      0.0      1.0      1.0      0.0      0.0   \n",
      "2016-01-23      1.0      6.0      8.0      0.0      0.0      0.0      0.0   \n",
      "2016-01-24      2.0      5.0      0.0      1.0      1.0      0.0      0.0   \n",
      "2016-01-25      8.0      0.0      0.0      2.0     10.0      0.0      1.0   \n",
      "2016-01-26      1.0      5.0      2.0      0.0      1.0      0.0      0.0   \n",
      "2016-01-27      2.0      7.0      1.0      5.0      6.0      0.0      1.0   \n",
      "\n",
      "            flavor8  flavor9  flavor10  flavor11  flavor12  flavor13  \\\n",
      "2016-01-21     10.0      1.0       0.0       0.0       0.0       0.0   \n",
      "2016-01-22      3.0      3.0       0.0       8.0       7.0       0.0   \n",
      "2016-01-23     25.0      0.0       0.0       0.0       0.0       0.0   \n",
      "2016-01-24      7.0      1.0       0.0       2.0       0.0       0.0   \n",
      "2016-01-25      3.0      1.0       0.0       1.0       0.0       1.0   \n",
      "2016-01-26      7.0      5.0       2.0       3.0       2.0       0.0   \n",
      "2016-01-27      5.0      1.0       0.0       4.0       7.0       1.0   \n",
      "\n",
      "            flavor14  flavor15  \n",
      "2016-01-21       0.0       0.0  \n",
      "2016-01-22       0.0       0.0  \n",
      "2016-01-23       0.0       0.0  \n",
      "2016-01-24       1.0       0.0  \n",
      "2016-01-25       1.0       0.0  \n",
      "2016-01-26       0.0       3.0  \n",
      "2016-01-27       2.0       0.0  \n"
     ]
    }
   ],
   "source": [
    "##进行训练集和测试集划分\n",
    "import datetime\n",
    "##手动设定训练集和测试集\n",
    "train_begin_date = datetime.datetime(2015, 12, 1)\n",
    "train_end_date = datetime.datetime(2016, 1, 20)\n",
    "test_begin_date = datetime.datetime(2016, 1, 21)\n",
    "test_end_date = datetime.datetime(2016, 1, 27)\n",
    "train_data = full_data.iloc[full_data.index >= train_begin_date]\n",
    "train_data = train_data.iloc[train_data.index <= train_end_date]\n",
    "test_data = full_data.iloc[full_data.index >= test_begin_date]\n",
    "test_data = test_data.iloc[test_data.index <= test_end_date]\n",
    "print(test_data)"
   ]
  },
  {
   "cell_type": "code",
   "execution_count": 7,
   "metadata": {
    "collapsed": false
   },
   "outputs": [
    {
     "name": "stdout",
     "output_type": "stream",
     "text": [
      "{'flavor1': 29, 'flavor2': 33, 'flavor3': 12, 'flavor4': 11, 'flavor5': 28, 'flavor6': 0, 'flavor7': 2, 'flavor8': 60, 'flavor9': 12, 'flavor10': 2, 'flavor11': 18, 'flavor12': 16, 'flavor13': 2, 'flavor14': 4, 'flavor15': 3}\n"
     ]
    }
   ],
   "source": [
    "##对test_data进行处理\n",
    "test_target = {}\n",
    "for ecs in target_ecs:\n",
    "    tmp_data = sum(test_data[ecs])\n",
    "    test_target[ecs] = int(tmp_data)\n",
    "print(test_target)\n",
    "##转换成字典格式， 目标虚拟服务器以及数目"
   ]
  },
  {
   "cell_type": "code",
   "execution_count": 8,
   "metadata": {
    "collapsed": false
   },
   "outputs": [
    {
     "data": {
      "text/plain": [
       "[<matplotlib.lines.Line2D at 0x1db93458128>]"
      ]
     },
     "execution_count": 8,
     "metadata": {},
     "output_type": "execute_result"
    },
    {
     "data": {
      "image/png": "[encoded data removed]",
      "text/plain": [
       "<matplotlib.figure.Figure at 0x1db8f9f62e8>"
      ]
     },
     "metadata": {},
     "output_type": "display_data"
    }
   ],
   "source": [
    "#观察每组数据的分布总天数\n",
    "count_num = []\n",
    "count_dict = {}\n",
    "for ecs in target_ecs:\n",
    "    tmp_num = len(train_data[ecs][train_data[ecs]>0])\n",
    "    count_num.append(tmp_num)\n",
    "    count_dict[ecs] = tmp_num\n",
    "ecs_index = range(1,16)\n",
    "plt.plot(ecs_index, count_num)"
   ]
  },
  {
   "cell_type": "code",
   "execution_count": 9,
   "metadata": {
    "collapsed": false
   },
   "outputs": [
    {
     "data": {
      "text/plain": [
       "[<matplotlib.lines.Line2D at 0x1db934bd208>]"
      ]
     },
     "execution_count": 9,
     "metadata": {},
     "output_type": "execute_result"
    },
    {
     "data": {
      "image/png": "[encoded data removed]",
      "text/plain": [
       "<matplotlib.figure.Figure at 0x1db9035ec50>"
      ]
     },
     "metadata": {},
     "output_type": "display_data"
    }
   ],
   "source": [
    "##观察数据集中每一个数据的分布\n",
    "watch_type = 'flavor13'\n",
    "watch_data = train_data[watch_type]\n",
    "plt.plot(watch_data)"
   ]
  },
  {
   "cell_type": "markdown",
   "metadata": {},
   "source": [
    "### 传统方法的一些检测\n",
    "- 低频的数据观察\n",
    "- 周期性检测\n",
    "- 移动平均后观察"
   ]
  },
  {
   "cell_type": "code",
   "execution_count": 10,
   "metadata": {
    "collapsed": false,
    "scrolled": true
   },
   "outputs": [
    {
     "name": "stdout",
     "output_type": "stream",
     "text": [
      "当前的虚拟机：flavor3\n",
      "实际值：\n",
      "12\n",
      "预测值：\n",
      "1\n",
      "当前的虚拟机：flavor6\n",
      "实际值：\n",
      "0\n",
      "预测值：\n",
      "3\n",
      "当前的虚拟机：flavor10\n",
      "实际值：\n",
      "2\n",
      "预测值：\n",
      "2\n",
      "当前的虚拟机：flavor13\n",
      "实际值：\n",
      "2\n",
      "预测值：\n",
      "2\n",
      "当前的虚拟机：flavor15\n",
      "实际值：\n",
      "3\n",
      "预测值：\n",
      "4\n"
     ]
    }
   ],
   "source": [
    "#处理低频次的数据\n",
    "from huawei.state_predict import mean_value\n",
    "low_frep = []\n",
    "date_sum =  int(str(train_end_date - train_begin_date)[0:2])\n",
    "predict_len = int(str(test_end_date - test_begin_date)[0:2])\n",
    "base_rate = 0.3\n",
    "for ecs, freq in count_dict.items():\n",
    "    if (freq < date_sum*base_rate):\n",
    "        low_frep.append(ecs)\n",
    "for ecs in low_frep:\n",
    "    ecs_data = train_data[ecs]\n",
    "    print (\"当前的虚拟机：\"+ecs)\n",
    "    print (\"实际值：\")\n",
    "    print (test_target[ecs])\n",
    "    print (\"预测值：\")\n",
    "    print (mean_value(train_data[ecs],date_sum,predict_len))"
   ]
  },
  {
   "cell_type": "code",
   "execution_count": 11,
   "metadata": {
    "collapsed": false
   },
   "outputs": [
    {
     "name": "stdout",
     "output_type": "stream",
     "text": [
      "predict scrore: 0.845446\n"
     ]
    },
    {
     "name": "stderr",
     "output_type": "stream",
     "text": [
      "C:\\Users\\caocongcong\\AppData\\Local\\Continuum\\Anaconda3\\lib\\site-packages\\statsmodels\\base\\data.py:503: FutureWarning: TimeSeries is deprecated. Please use Series\n",
      "  return TimeSeries(result, index=self.predict_dates)\n",
      "C:\\Users\\caocongcong\\AppData\\Local\\Continuum\\Anaconda3\\lib\\site-packages\\statsmodels\\base\\data.py:503: FutureWarning: TimeSeries is deprecated. Please use Series\n",
      "  return TimeSeries(result, index=self.predict_dates)\n",
      "C:\\Users\\caocongcong\\AppData\\Local\\Continuum\\Anaconda3\\lib\\site-packages\\statsmodels\\base\\data.py:503: FutureWarning: TimeSeries is deprecated. Please use Series\n",
      "  return TimeSeries(result, index=self.predict_dates)\n",
      "C:\\Users\\caocongcong\\AppData\\Local\\Continuum\\Anaconda3\\lib\\site-packages\\statsmodels\\base\\data.py:503: FutureWarning: TimeSeries is deprecated. Please use Series\n",
      "  return TimeSeries(result, index=self.predict_dates)\n",
      "C:\\Users\\caocongcong\\AppData\\Local\\Continuum\\Anaconda3\\lib\\site-packages\\statsmodels\\base\\data.py:503: FutureWarning: TimeSeries is deprecated. Please use Series\n",
      "  return TimeSeries(result, index=self.predict_dates)\n",
      "C:\\Users\\caocongcong\\AppData\\Local\\Continuum\\Anaconda3\\lib\\site-packages\\statsmodels\\base\\data.py:503: FutureWarning: TimeSeries is deprecated. Please use Series\n",
      "  return TimeSeries(result, index=self.predict_dates)\n",
      "C:\\Users\\caocongcong\\AppData\\Local\\Continuum\\Anaconda3\\lib\\site-packages\\statsmodels\\base\\data.py:503: FutureWarning: TimeSeries is deprecated. Please use Series\n",
      "  return TimeSeries(result, index=self.predict_dates)\n",
      "C:\\Users\\caocongcong\\AppData\\Local\\Continuum\\Anaconda3\\lib\\site-packages\\statsmodels\\base\\data.py:503: FutureWarning: TimeSeries is deprecated. Please use Series\n",
      "  return TimeSeries(result, index=self.predict_dates)\n",
      "C:\\Users\\caocongcong\\AppData\\Local\\Continuum\\Anaconda3\\lib\\site-packages\\statsmodels\\base\\data.py:503: FutureWarning: TimeSeries is deprecated. Please use Series\n",
      "  return TimeSeries(result, index=self.predict_dates)\n",
      "C:\\Users\\caocongcong\\AppData\\Local\\Continuum\\Anaconda3\\lib\\site-packages\\statsmodels\\base\\data.py:503: FutureWarning: TimeSeries is deprecated. Please use Series\n",
      "  return TimeSeries(result, index=self.predict_dates)\n",
      "C:\\Users\\caocongcong\\AppData\\Local\\Continuum\\Anaconda3\\lib\\site-packages\\statsmodels\\base\\data.py:503: FutureWarning: TimeSeries is deprecated. Please use Series\n",
      "  return TimeSeries(result, index=self.predict_dates)\n",
      "C:\\Users\\caocongcong\\AppData\\Local\\Continuum\\Anaconda3\\lib\\site-packages\\statsmodels\\base\\data.py:503: FutureWarning: TimeSeries is deprecated. Please use Series\n",
      "  return TimeSeries(result, index=self.predict_dates)\n",
      "C:\\Users\\caocongcong\\AppData\\Local\\Continuum\\Anaconda3\\lib\\site-packages\\statsmodels\\base\\data.py:503: FutureWarning: TimeSeries is deprecated. Please use Series\n",
      "  return TimeSeries(result, index=self.predict_dates)\n",
      "C:\\Users\\caocongcong\\AppData\\Local\\Continuum\\Anaconda3\\lib\\site-packages\\statsmodels\\base\\data.py:503: FutureWarning: TimeSeries is deprecated. Please use Series\n",
      "  return TimeSeries(result, index=self.predict_dates)\n",
      "C:\\Users\\caocongcong\\AppData\\Local\\Continuum\\Anaconda3\\lib\\site-packages\\statsmodels\\base\\data.py:503: FutureWarning: TimeSeries is deprecated. Please use Series\n",
      "  return TimeSeries(result, index=self.predict_dates)\n"
     ]
    }
   ],
   "source": [
    "## 使用AR\n",
    "from statsmodels.tsa.ar_model import AR\n",
    "from huawei.state_predict import mv_and_ar, get_scores\n",
    "\n",
    "predict_result = {}\n",
    "for ecs in target_ecs:\n",
    "    train_series = train_data[ecs]\n",
    "    predict_num = mv_and_ar(train_series,test_begin_date,test_end_date,6)\n",
    "    #print (predictions)\n",
    "    predict_result[ecs] = int(predict_num)\n",
    "##修复bug\n",
    "#predict_result['flavor13'] = 2.0\n",
    "get_scores(predict_result, test_target,target_ecs)"
   ]
  },
  {
   "cell_type": "code",
   "execution_count": 22,
   "metadata": {
    "collapsed": false
   },
   "outputs": [
    {
     "name": "stdout",
     "output_type": "stream",
     "text": [
      "predict scrore: 0.875944\n"
     ]
    }
   ],
   "source": [
    "##如果增加频次不够的\n",
    "mean_predict_result = predict_result\n",
    "base_rate = 0.1\n",
    "for ecs, freq in count_dict.items():\n",
    "    if (freq < date_sum*base_rate):\n",
    "        low_frep.append(ecs)\n",
    "        print (ecs)\n",
    "for ecs in low_frep:\n",
    "    ecs_data = train_data[ecs]\n",
    "    mean_predict_result[ecs] = mean_value(train_data[ecs],date_sum,predict_len)\n",
    "get_scores(mean_predict_result, test_target,target_ecs)"
   ]
  },
  {
   "cell_type": "code",
   "execution_count": null,
   "metadata": {
    "collapsed": true
   },
   "outputs": [],
   "source": []
  }
 ],
 "metadata": {
  "kernelspec": {
   "display_name": "Python 3",
   "language": "python",
   "name": "python3"
  },
  "language_info": {
   "codemirror_mode": {
    "name": "ipython",
    "version": 3
   },
   "file_extension": ".py",
   "mimetype": "text/x-python",
   "name": "python",
   "nbconvert_exporter": "python",
   "pygments_lexer": "ipython3",
   "version": "3.6.0"
  }
 },
 "nbformat": 4,
 "nbformat_minor": 2
}
