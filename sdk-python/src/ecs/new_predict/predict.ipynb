{
 "cells": [
  {
   "cell_type": "code",
   "execution_count": 5,
   "metadata": {},
   "outputs": [],
   "source": [
    "#本文档进行预测处理\n",
    "import pandas as pd\n",
    "import numpy as np \n",
    "import matplotlib.pyplot as plt\n",
    "from huawei.split_data import get_data\n",
    "from huawei.state_predict import mean_value, mv_and_ar,arma\n",
    "import datetime\n",
    "\n",
    "##设置绘图的大小\n",
    "%matplotlib inline\n",
    "plt.rcParams['figure.figsize'] = (10.0, 8.0) # set default size of plots\n",
    "plt.rcParams['image.interpolation'] = 'nearest'\n",
    "plt.rcParams['image.cmap'] = 'gray'\n",
    "\n",
    "# Some more magic so that the notebook will reload external python modules;\n",
    "# see http://stackoverflow.com/questions/1907993/autoreload-of-modules-in-ipython\n",
    "%reload_ext autoreload\n",
    "%autoreload 2"
   ]
  },
  {
   "cell_type": "code",
   "execution_count": 41,
   "metadata": {},
   "outputs": [],
   "source": [
    "##读入数据\n",
    "# 导入数据\n",
    "#选用的服务器类型\n",
    "columns = [\"id\",\"ecs\",\"date\",\"time\"]\n",
    "#读取数据\n",
    "data = pd.read_table('data_set/data_2015_12_to_2016_01.txt',header=None,delim_whitespace=True,names=columns)\n",
    "#转化成日期格式\n",
    "data['date'] = pd.to_datetime(data['date'])\n",
    "####设置需要的日期\n",
    "train_begin_date = datetime.datetime(2015, 12, 1)\n",
    "train_end_date = datetime.datetime(2016, 1, 22)\n",
    "test_begin_date = datetime.datetime(2016, 1, 23)\n",
    "test_end_date = datetime.datetime(2016, 1, 30)\n",
    "train_data, test_data, test_target = get_data(data,train_begin_date,train_end_date,test_begin_date,test_end_date)\n",
    "predict_len = int(str(test_end_date - test_begin_date)[0:2])\n",
    "\n",
    "#print(train_data)\n",
    "#print(test_data)"
   ]
  },
  {
   "cell_type": "code",
   "execution_count": 71,
   "metadata": {},
   "outputs": [
    {
     "name": "stdout",
     "output_type": "stream",
     "text": [
      "[  3.   1.   3.   3.   2.   5.  10.]\n"
     ]
    }
   ],
   "source": [
    "###对train_data进行处理\n",
    "ecs1_data = train_data[\"flavor1\"]\n",
    "split_windows = 7\n",
    "ecs1_data = pd.DataFrame(ecs1_data)\n",
    "#ecs1_data.rename(index=str, columns={\"flavor1\": \"var(t)\"})\n",
    "cols, names = list(), list()\n",
    "for i in range(split_windows+1):\n",
    "    cols.append(ecs1_data.shift(i))\n",
    "    names += [('var(t-%d)' % (i))]\n",
    "agg = pd.concat(cols, axis=1)\n",
    "agg.columns = names\n",
    "agg.dropna(inplace=True)\n",
    "agg = agg.rename(index=str, columns={\"var(t-0)\": \"target\"})\n",
    "target = agg[\"target\"]\n",
    "agg.drop('target',axis=1, inplace=True)\n",
    "index = [i for i in range(len(target)-split_windows, len(target))]\n",
    "need_data = target[index].values\n",
    "print (need_data)"
   ]
  },
  {
   "cell_type": "code",
   "execution_count": 72,
   "metadata": {},
   "outputs": [
    {
     "name": "stderr",
     "output_type": "stream",
     "text": [
      "C:\\Users\\cao\\Anaconda3\\lib\\site-packages\\sklearn\\utils\\validation.py:395: DeprecationWarning: Passing 1d arrays as data is deprecated in 0.17 and will raise ValueError in 0.19. Reshape your data either using X.reshape(-1, 1) if your data has a single feature or X.reshape(1, -1) if it contains a single sample.\n",
      "  DeprecationWarning)\n"
     ]
    },
    {
     "data": {
      "text/plain": [
       "array([ 5.21443874])"
      ]
     },
     "execution_count": 72,
     "metadata": {},
     "output_type": "execute_result"
    }
   ],
   "source": [
    "from huawei.split_data import series_to_supervised\n",
    "from sklearn import linear_model\n",
    "model_LinearRegression = linear_model.LinearRegression()\n",
    "ecs1_data = train_data[\"flavor1\"]\n",
    "split_windows = 7\n",
    "train,target = series_to_supervised(ecs1_data,split_windows)\n",
    "model_LinearRegression.fit(train,target)\n",
    "need_data= [3.0,1.0,3.0,3.0,2.0,5.0,10.0]\n",
    "model_LinearRegression.predict(need_data)"
   ]
  },
  {
   "cell_type": "code",
   "execution_count": null,
   "metadata": {
    "collapsed": true
   },
   "outputs": [],
   "source": []
  }
 ],
 "metadata": {
  "kernelspec": {
   "display_name": "Python 3",
   "language": "python",
   "name": "python3"
  }
 },
 "nbformat": 4,
 "nbformat_minor": 2
}
