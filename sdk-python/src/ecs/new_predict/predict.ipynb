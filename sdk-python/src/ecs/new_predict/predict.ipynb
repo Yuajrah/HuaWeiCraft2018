{
 "cells": [
  {
   "cell_type": "code",
   "execution_count": 16,
   "metadata": {
    "collapsed": false
   },
   "outputs": [],
   "source": [
    "#本文档进行预测处理\n",
    "import pandas as pd\n",
    "import numpy as np \n",
    "import matplotlib.pyplot as plt\n",
    "from huawei.split_data import get_data\n",
    "from huawei.prediction import mean_value, ar, mv_and_ar,arma\n",
    "import datetime\n",
    "\n",
    "##设置绘图的大小\n",
    "%matplotlib inline\n",
    "plt.rcParams['figure.figsize'] = (10.0, 8.0) # set default size of plots\n",
    "plt.rcParams['image.interpolation'] = 'nearest'\n",
    "plt.rcParams['image.cmap'] = 'gray'\n",
    "\n",
    "# Some more magic so that the notebook will reload external python modules;\n",
    "# see http://stackoverflow.com/questions/1907993/autoreload-of-modules-in-ipython\n",
    "%reload_ext autoreload\n",
    "%autoreload 2"
   ]
  },
  {
   "cell_type": "code",
   "execution_count": 17,
   "metadata": {
    "collapsed": false
   },
   "outputs": [
    {
     "name": "stdout",
     "output_type": "stream",
     "text": [
      "            flavor1  flavor2  flavor3  flavor4  flavor5  flavor6  flavor7  \\\n",
      "2016-01-22     10.0      4.0      0.0      1.0      1.0      0.0      0.0   \n",
      "2016-01-23      1.0      6.0      8.0      0.0      0.0      0.0      0.0   \n",
      "2016-01-24      2.0      5.0      0.0      1.0      1.0      0.0      0.0   \n",
      "2016-01-25      8.0      0.0      0.0      2.0     10.0      0.0      1.0   \n",
      "2016-01-26      1.0      5.0      2.0      0.0      1.0      0.0      0.0   \n",
      "2016-01-27      2.0      7.0      1.0      5.0      6.0      0.0      1.0   \n",
      "2016-01-28      4.0      0.0      0.0      3.0      5.0      1.0      3.0   \n",
      "2016-01-29      2.0      1.0      0.0      1.0      3.0      1.0      1.0   \n",
      "2016-01-30      3.0      1.0      0.0      0.0      0.0      0.0      0.0   \n",
      "2016-01-31      3.0      0.0      0.0      0.0      4.0      0.0      0.0   \n",
      "\n",
      "            flavor8  flavor9  flavor10  flavor11  flavor12  flavor13  \\\n",
      "2016-01-22      3.0      3.0       0.0       8.0       7.0       0.0   \n",
      "2016-01-23     25.0      0.0       0.0       0.0       0.0       0.0   \n",
      "2016-01-24      7.0      1.0       0.0       2.0       0.0       0.0   \n",
      "2016-01-25      3.0      1.0       0.0       1.0       0.0       1.0   \n",
      "2016-01-26      7.0      5.0       2.0       3.0       2.0       0.0   \n",
      "2016-01-27      5.0      1.0       0.0       4.0       7.0       1.0   \n",
      "2016-01-28     12.0      1.0       0.0       6.0       0.0       0.0   \n",
      "2016-01-29      0.0      1.0       1.0       1.0       0.0       0.0   \n",
      "2016-01-30      0.0      0.0       0.0       0.0       0.0       0.0   \n",
      "2016-01-31      0.0      2.0       0.0       0.0       0.0       0.0   \n",
      "\n",
      "            flavor14  flavor15  \n",
      "2016-01-22       0.0       0.0  \n",
      "2016-01-23       0.0       0.0  \n",
      "2016-01-24       1.0       0.0  \n",
      "2016-01-25       1.0       0.0  \n",
      "2016-01-26       0.0       3.0  \n",
      "2016-01-27       2.0       0.0  \n",
      "2016-01-28       1.0       0.0  \n",
      "2016-01-29       0.0       0.0  \n",
      "2016-01-30       0.0       0.0  \n",
      "2016-01-31       1.0       0.0  \n"
     ]
    }
   ],
   "source": [
    "##读入数据\n",
    "# 导入数据\n",
    "#选用的服务器类型\n",
    "columns = [\"id\",\"ecs\",\"date\",\"time\"]\n",
    "#读取数据\n",
    "data = pd.read_table('data_set/data_2015_12_to_2016_01.txt',header=None,delim_whitespace=True,names=columns)\n",
    "#转化成日期格式\n",
    "data['date'] = pd.to_datetime(data['date'])\n",
    "####设置需要的日期\n",
    "train_begin_date = datetime.datetime(2015, 12, 1)\n",
    "train_end_date = datetime.datetime(2016, 1, 22)\n",
    "test_begin_date = datetime.datetime(2016, 1, 23)\n",
    "test_end_date = datetime.datetime(2016, 1, 31)\n",
    "train_data, test_data, test_target = get_data(data,train_begin_date,train_end_date,test_begin_date,test_end_date)"
   ]
  },
  {
   "cell_type": "code",
   "execution_count": null,
   "metadata": {
    "collapsed": true
   },
   "outputs": [],
   "source": []
  }
 ],
 "metadata": {
  "kernelspec": {
   "display_name": "Python 3",
   "language": "python",
   "name": "python3"
  },
  "language_info": {
   "codemirror_mode": {
    "name": "ipython",
    "version": 3
   },
   "file_extension": ".py",
   "mimetype": "text/x-python",
   "name": "python",
   "nbconvert_exporter": "python",
   "pygments_lexer": "ipython3",
   "version": "3.6.0"
  }
 },
 "nbformat": 4,
 "nbformat_minor": 2
}
